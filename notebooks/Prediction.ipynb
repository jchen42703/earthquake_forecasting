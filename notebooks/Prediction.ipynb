{
 "cells": [
  {
   "cell_type": "markdown",
   "id": "spiritual-prime",
   "metadata": {},
   "source": [
    "# LightGBM"
   ]
  },
  {
   "cell_type": "code",
   "execution_count": 1,
   "id": "tamil-collector",
   "metadata": {},
   "outputs": [
    {
     "data": {
      "text/html": [
       "<div>\n",
       "<style scoped>\n",
       "    .dataframe tbody tr th:only-of-type {\n",
       "        vertical-align: middle;\n",
       "    }\n",
       "\n",
       "    .dataframe tbody tr th {\n",
       "        vertical-align: top;\n",
       "    }\n",
       "\n",
       "    .dataframe thead th {\n",
       "        text-align: right;\n",
       "    }\n",
       "</style>\n",
       "<table border=\"1\" class=\"dataframe\">\n",
       "  <thead>\n",
       "    <tr style=\"text-align: right;\">\n",
       "      <th></th>\n",
       "      <th>Unnamed: 0</th>\n",
       "      <th>building_id</th>\n",
       "      <th>count_floors_pre_eq</th>\n",
       "      <th>age</th>\n",
       "      <th>area_percentage</th>\n",
       "      <th>height_percentage</th>\n",
       "      <th>has_superstructure_adobe_mud</th>\n",
       "      <th>has_superstructure_mud_mortar_stone</th>\n",
       "      <th>has_superstructure_stone_flag</th>\n",
       "      <th>has_superstructure_cement_mortar_stone</th>\n",
       "      <th>...</th>\n",
       "      <th>geo_feat7</th>\n",
       "      <th>geo_feat8</th>\n",
       "      <th>geo_feat9</th>\n",
       "      <th>geo_feat10</th>\n",
       "      <th>geo_feat11</th>\n",
       "      <th>geo_feat12</th>\n",
       "      <th>geo_feat13</th>\n",
       "      <th>geo_feat14</th>\n",
       "      <th>geo_feat15</th>\n",
       "      <th>geo_feat16</th>\n",
       "    </tr>\n",
       "  </thead>\n",
       "  <tbody>\n",
       "    <tr>\n",
       "      <th>0</th>\n",
       "      <td>0</td>\n",
       "      <td>300051</td>\n",
       "      <td>3</td>\n",
       "      <td>20</td>\n",
       "      <td>7</td>\n",
       "      <td>6</td>\n",
       "      <td>0</td>\n",
       "      <td>1</td>\n",
       "      <td>0</td>\n",
       "      <td>0</td>\n",
       "      <td>...</td>\n",
       "      <td>0.674943</td>\n",
       "      <td>1.233606</td>\n",
       "      <td>1.074826</td>\n",
       "      <td>0.948696</td>\n",
       "      <td>1.789101</td>\n",
       "      <td>-0.690246</td>\n",
       "      <td>1.215929</td>\n",
       "      <td>0.641817</td>\n",
       "      <td>1.489536</td>\n",
       "      <td>-1.748435</td>\n",
       "    </tr>\n",
       "    <tr>\n",
       "      <th>1</th>\n",
       "      <td>1</td>\n",
       "      <td>99355</td>\n",
       "      <td>2</td>\n",
       "      <td>25</td>\n",
       "      <td>13</td>\n",
       "      <td>5</td>\n",
       "      <td>0</td>\n",
       "      <td>1</td>\n",
       "      <td>0</td>\n",
       "      <td>0</td>\n",
       "      <td>...</td>\n",
       "      <td>-0.633836</td>\n",
       "      <td>0.383985</td>\n",
       "      <td>0.636826</td>\n",
       "      <td>0.662928</td>\n",
       "      <td>1.637369</td>\n",
       "      <td>-0.900778</td>\n",
       "      <td>1.354285</td>\n",
       "      <td>0.221195</td>\n",
       "      <td>0.662908</td>\n",
       "      <td>0.386138</td>\n",
       "    </tr>\n",
       "    <tr>\n",
       "      <th>2</th>\n",
       "      <td>2</td>\n",
       "      <td>890251</td>\n",
       "      <td>2</td>\n",
       "      <td>5</td>\n",
       "      <td>4</td>\n",
       "      <td>5</td>\n",
       "      <td>0</td>\n",
       "      <td>1</td>\n",
       "      <td>0</td>\n",
       "      <td>0</td>\n",
       "      <td>...</td>\n",
       "      <td>-0.570019</td>\n",
       "      <td>0.412793</td>\n",
       "      <td>1.512381</td>\n",
       "      <td>-0.302350</td>\n",
       "      <td>0.350699</td>\n",
       "      <td>-1.007432</td>\n",
       "      <td>1.000211</td>\n",
       "      <td>0.475425</td>\n",
       "      <td>-0.184000</td>\n",
       "      <td>-0.991295</td>\n",
       "    </tr>\n",
       "    <tr>\n",
       "      <th>3</th>\n",
       "      <td>3</td>\n",
       "      <td>745817</td>\n",
       "      <td>1</td>\n",
       "      <td>0</td>\n",
       "      <td>19</td>\n",
       "      <td>3</td>\n",
       "      <td>0</td>\n",
       "      <td>0</td>\n",
       "      <td>0</td>\n",
       "      <td>0</td>\n",
       "      <td>...</td>\n",
       "      <td>-1.826422</td>\n",
       "      <td>2.925866</td>\n",
       "      <td>2.126571</td>\n",
       "      <td>1.424021</td>\n",
       "      <td>2.839799</td>\n",
       "      <td>-1.503001</td>\n",
       "      <td>1.168797</td>\n",
       "      <td>2.822999</td>\n",
       "      <td>0.984964</td>\n",
       "      <td>0.840190</td>\n",
       "    </tr>\n",
       "    <tr>\n",
       "      <th>4</th>\n",
       "      <td>4</td>\n",
       "      <td>421793</td>\n",
       "      <td>3</td>\n",
       "      <td>15</td>\n",
       "      <td>8</td>\n",
       "      <td>7</td>\n",
       "      <td>0</td>\n",
       "      <td>1</td>\n",
       "      <td>0</td>\n",
       "      <td>0</td>\n",
       "      <td>...</td>\n",
       "      <td>-0.622701</td>\n",
       "      <td>1.714811</td>\n",
       "      <td>1.518751</td>\n",
       "      <td>0.280875</td>\n",
       "      <td>1.983836</td>\n",
       "      <td>-0.291633</td>\n",
       "      <td>1.130178</td>\n",
       "      <td>0.390867</td>\n",
       "      <td>1.355002</td>\n",
       "      <td>-1.796739</td>\n",
       "    </tr>\n",
       "  </tbody>\n",
       "</table>\n",
       "<p>5 rows × 83 columns</p>\n",
       "</div>"
      ],
      "text/plain": [
       "   Unnamed: 0  building_id  count_floors_pre_eq  age  area_percentage  \\\n",
       "0           0       300051                    3   20                7   \n",
       "1           1        99355                    2   25               13   \n",
       "2           2       890251                    2    5                4   \n",
       "3           3       745817                    1    0               19   \n",
       "4           4       421793                    3   15                8   \n",
       "\n",
       "   height_percentage  has_superstructure_adobe_mud  \\\n",
       "0                  6                             0   \n",
       "1                  5                             0   \n",
       "2                  5                             0   \n",
       "3                  3                             0   \n",
       "4                  7                             0   \n",
       "\n",
       "   has_superstructure_mud_mortar_stone  has_superstructure_stone_flag  \\\n",
       "0                                    1                              0   \n",
       "1                                    1                              0   \n",
       "2                                    1                              0   \n",
       "3                                    0                              0   \n",
       "4                                    1                              0   \n",
       "\n",
       "   has_superstructure_cement_mortar_stone  ...  geo_feat7  geo_feat8  \\\n",
       "0                                       0  ...   0.674943   1.233606   \n",
       "1                                       0  ...  -0.633836   0.383985   \n",
       "2                                       0  ...  -0.570019   0.412793   \n",
       "3                                       0  ...  -1.826422   2.925866   \n",
       "4                                       0  ...  -0.622701   1.714811   \n",
       "\n",
       "   geo_feat9  geo_feat10  geo_feat11  geo_feat12  geo_feat13  geo_feat14  \\\n",
       "0   1.074826    0.948696    1.789101   -0.690246    1.215929    0.641817   \n",
       "1   0.636826    0.662928    1.637369   -0.900778    1.354285    0.221195   \n",
       "2   1.512381   -0.302350    0.350699   -1.007432    1.000211    0.475425   \n",
       "3   2.126571    1.424021    2.839799   -1.503001    1.168797    2.822999   \n",
       "4   1.518751    0.280875    1.983836   -0.291633    1.130178    0.390867   \n",
       "\n",
       "   geo_feat15  geo_feat16  \n",
       "0    1.489536   -1.748435  \n",
       "1    0.662908    0.386138  \n",
       "2   -0.184000   -0.991295  \n",
       "3    0.984964    0.840190  \n",
       "4    1.355002   -1.796739  \n",
       "\n",
       "[5 rows x 83 columns]"
      ]
     },
     "execution_count": 1,
     "metadata": {},
     "output_type": "execute_result"
    }
   ],
   "source": [
    "import pandas as pd\n",
    "test_path = \"/home/joseph/datasets/earthquake_damage_forecasting/test_data_embeds.csv\"\n",
    "test_df = pd.read_csv(test_path)\n",
    "test_df.head()"
   ]
  },
  {
   "cell_type": "code",
   "execution_count": 2,
   "id": "packed-enhancement",
   "metadata": {},
   "outputs": [],
   "source": [
    "import numpy as np\n",
    "def preprocess_embeds_df(df: pd.DataFrame) -> np.ndarray:\n",
    "    \"\"\"Assumes that df already contains the embeds. Processes the df and\n",
    "    converts it to a numpy array to be used in self.predict.\n",
    "    \"\"\"\n",
    "    if \"building_id\" in df.columns:\n",
    "        df = df.drop([\"building_id\"], axis=1)\n",
    "\n",
    "    if \"Unnamed: 0\" in df.columns:\n",
    "        df = df.drop([\"Unnamed: 0\"], axis=1)\n",
    "\n",
    "    return np.array(df)\n"
   ]
  },
  {
   "cell_type": "code",
   "execution_count": 3,
   "id": "bored-somewhere",
   "metadata": {},
   "outputs": [
    {
     "data": {
      "text/plain": [
       "(86868, 81)"
      ]
     },
     "execution_count": 3,
     "metadata": {},
     "output_type": "execute_result"
    }
   ],
   "source": [
    "test = preprocess_embeds_df(test_df)\n",
    "test.shape"
   ]
  },
  {
   "cell_type": "code",
   "execution_count": 4,
   "id": "million-jersey",
   "metadata": {},
   "outputs": [
    {
     "data": {
      "text/plain": [
       "(1, 81)"
      ]
     },
     "execution_count": 4,
     "metadata": {},
     "output_type": "execute_result"
    }
   ],
   "source": [
    "test[0][None].shape"
   ]
  },
  {
   "cell_type": "code",
   "execution_count": 1,
   "id": "smooth-announcement",
   "metadata": {},
   "outputs": [],
   "source": [
    "import lightgbm as lgb\n",
    "model_path = \"/home/joseph/Coding/ml_projects/earthquake_forecasting/models/lgb/model0.txt\"\n",
    "model = lgb.Booster(model_file=model_path)"
   ]
  },
  {
   "cell_type": "code",
   "execution_count": 6,
   "id": "beneficial-guidance",
   "metadata": {},
   "outputs": [
    {
     "data": {
      "text/plain": [
       "81"
      ]
     },
     "execution_count": 6,
     "metadata": {},
     "output_type": "execute_result"
    }
   ],
   "source": [
    "model.num_feature()"
   ]
  },
  {
   "cell_type": "code",
   "execution_count": 11,
   "id": "approximate-chorus",
   "metadata": {},
   "outputs": [
    {
     "data": {
      "text/plain": [
       "array([ 2298,  9425, 10043,  6319,   569,  1237,   438,   356,   634,\n",
       "         776,  1235,   735,   582,   247,   322,  2078,  1008,   598,\n",
       "         521,   200,    53,    68,   110,    41,    52,     0,   177,\n",
       "         825,   307,   876,   141,   375,   964,   671,   536,  1334,\n",
       "        1110,   535,   967,    78,   679,   697,   107,   693,  1337,\n",
       "         395,  1068,   577,   150,  1380,  1074,    75,    76,   475,\n",
       "          44,    59,    10,    54,   252,    49,   228,   254,   120,\n",
       "         400,   164,  8098,  8318,  8108,  8257,  8212,  8333,  8066,\n",
       "        7712,  8390,  8016,  7896,  7830,  7416,  7947,  7876,  7839],\n",
       "      dtype=int32)"
      ]
     },
     "execution_count": 11,
     "metadata": {},
     "output_type": "execute_result"
    }
   ],
   "source": [
    "model.feature_importance()"
   ]
  },
  {
   "cell_type": "code",
   "execution_count": 21,
   "id": "varied-porcelain",
   "metadata": {},
   "outputs": [
    {
     "data": {
      "text/plain": [
       "8"
      ]
     },
     "execution_count": 21,
     "metadata": {},
     "output_type": "execute_result"
    }
   ],
   "source": [
    "import multiprocessing\n",
    "multiprocessing.cpu_count()"
   ]
  },
  {
   "cell_type": "code",
   "execution_count": 24,
   "id": "chubby-american",
   "metadata": {},
   "outputs": [
    {
     "data": {
      "text/plain": [
       "(1, 3)"
      ]
     },
     "execution_count": 24,
     "metadata": {},
     "output_type": "execute_result"
    }
   ],
   "source": [
    "y_pred = model.predict(test[0][None], num_threads=1)\n",
    "y_pred.shape"
   ]
  },
  {
   "cell_type": "code",
   "execution_count": 28,
   "id": "nearby-convert",
   "metadata": {
    "scrolled": true
   },
   "outputs": [
    {
     "name": "stdout",
     "output_type": "stream",
     "text": [
      "Predicting for 4\n",
      "Predicting for 2\n",
      "Predicting for 7\n",
      "Predicting for 3\n",
      "Predicting for 0\n",
      "Predicting for 1\n",
      "\n",
      "Predicting for 5\n",
      "\n",
      "Predicting for 6\n"
     ]
    }
   ],
   "source": [
    "from multiprocessing import Pool\n",
    "import tqdm\n",
    "pool = Pool(processes=8)\n",
    "def predict(_id):\n",
    "    print(f\"Predicting for {_id}\\n\")\n",
    "    y_pred = model.predict(test[0][None], num_threads=1)\n",
    "    return _id\n",
    "\n",
    "# starttime=time.time()\n",
    "# pool = Pool(2)\n",
    "# multiple_results = [pool.apply_async(functionToParallize) for i in [2,3]]\n",
    "# p=[res.get() for res in multiple_results]\n",
    "# print((time.time()-starttime)/60)\n",
    "\n",
    "results = [pool.apply_async(predict, args=(x,)) for x in range(8)]\n",
    "p = [res.get() for res in results]\n",
    "print(p)\n",
    "pool.close()\n",
    "pool.join()"
   ]
  },
  {
   "cell_type": "code",
   "execution_count": 30,
   "id": "wanted-barcelona",
   "metadata": {},
   "outputs": [],
   "source": [
    "from multiprocessing import Pool\n",
    "import tqdm\n",
    "pool = Pool(processes=8)\n",
    "def predict(_id):\n",
    "    print(f\"Predicting for {_id}\\n\")\n",
    "    y_pred = model.predict(test[0][None], num_threads=1)\n",
    "    return _id\n",
    "\n",
    "results = [pool.apply(predict, args=(x,)) for x in range(8)]\n",
    "print(results)\n",
    "pool.close()\n",
    "pool.join()"
   ]
  },
  {
   "cell_type": "code",
   "execution_count": 19,
   "id": "killing-rapid",
   "metadata": {},
   "outputs": [
    {
     "data": {
      "text/plain": [
       "[]"
      ]
     },
     "execution_count": 19,
     "metadata": {},
     "output_type": "execute_result"
    }
   ],
   "source": [
    "out"
   ]
  },
  {
   "cell_type": "code",
   "execution_count": null,
   "id": "beneficial-cabin",
   "metadata": {},
   "outputs": [],
   "source": [
    "y_pred = model.predict(test[0][None])\n",
    "y_pred.shape"
   ]
  },
  {
   "cell_type": "code",
   "execution_count": 16,
   "id": "valued-least",
   "metadata": {},
   "outputs": [
    {
     "data": {
      "text/plain": [
       "array([[0.00084939, 0.26037801, 0.7387726 ]])"
      ]
     },
     "execution_count": 16,
     "metadata": {},
     "output_type": "execute_result"
    }
   ],
   "source": [
    "# Probabilities for each class for a single sample\n",
    "y_pred"
   ]
  },
  {
   "cell_type": "code",
   "execution_count": 19,
   "id": "general-promise",
   "metadata": {},
   "outputs": [
    {
     "data": {
      "text/plain": [
       "array([3])"
      ]
     },
     "execution_count": 19,
     "metadata": {},
     "output_type": "execute_result"
    }
   ],
   "source": [
    "damage = y_pred.argmax(axis=1)+1\n",
    "damage"
   ]
  },
  {
   "cell_type": "markdown",
   "id": "pursuant-cooper",
   "metadata": {},
   "source": [
    "2 samples"
   ]
  },
  {
   "cell_type": "code",
   "execution_count": 20,
   "id": "incredible-korean",
   "metadata": {},
   "outputs": [
    {
     "data": {
      "text/plain": [
       "(2, 3)"
      ]
     },
     "execution_count": 20,
     "metadata": {},
     "output_type": "execute_result"
    }
   ],
   "source": [
    "y_pred = model.predict(test[:2])\n",
    "y_pred.shape"
   ]
  },
  {
   "cell_type": "code",
   "execution_count": 21,
   "id": "suitable-flour",
   "metadata": {
    "scrolled": true
   },
   "outputs": [
    {
     "data": {
      "text/plain": [
       "array([[8.49388578e-04, 2.60378007e-01, 7.38772605e-01],\n",
       "       [2.98472630e-03, 9.26326325e-01, 7.06889488e-02]])"
      ]
     },
     "execution_count": 21,
     "metadata": {},
     "output_type": "execute_result"
    }
   ],
   "source": [
    "y_pred"
   ]
  },
  {
   "cell_type": "code",
   "execution_count": 22,
   "id": "continued-gardening",
   "metadata": {},
   "outputs": [
    {
     "data": {
      "text/plain": [
       "array([3, 2])"
      ]
     },
     "execution_count": 22,
     "metadata": {},
     "output_type": "execute_result"
    }
   ],
   "source": [
    "damage = y_pred.argmax(axis=1)+1\n",
    "damage"
   ]
  },
  {
   "cell_type": "code",
   "execution_count": null,
   "id": "bibliographic-adjustment",
   "metadata": {},
   "outputs": [],
   "source": []
  }
 ],
 "metadata": {
  "kernelspec": {
   "display_name": "Python 3",
   "language": "python",
   "name": "python3"
  },
  "language_info": {
   "codemirror_mode": {
    "name": "ipython",
    "version": 3
   },
   "file_extension": ".py",
   "mimetype": "text/x-python",
   "name": "python",
   "nbconvert_exporter": "python",
   "pygments_lexer": "ipython3",
   "version": "3.8.8"
  },
  "toc": {
   "base_numbering": 1,
   "nav_menu": {},
   "number_sections": true,
   "sideBar": true,
   "skip_h1_title": false,
   "title_cell": "Table of Contents",
   "title_sidebar": "Contents",
   "toc_cell": false,
   "toc_position": {},
   "toc_section_display": true,
   "toc_window_display": false
  }
 },
 "nbformat": 4,
 "nbformat_minor": 5
}
